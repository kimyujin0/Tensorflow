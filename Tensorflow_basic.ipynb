{
  "nbformat": 4,
  "nbformat_minor": 0,
  "metadata": {
    "colab": {
      "provenance": [],
      "collapsed_sections": [],
      "authorship_tag": "ABX9TyOEKiUnNTirdIcoAIaMM8Xy",
      "include_colab_link": true
    },
    "kernelspec": {
      "name": "python3",
      "display_name": "Python 3"
    },
    "language_info": {
      "name": "python"
    }
  },
  "cells": [
    {
      "cell_type": "markdown",
      "metadata": {
        "id": "view-in-github",
        "colab_type": "text"
      },
      "source": [
        "<a href=\"https://colab.research.google.com/github/kimyujin0/Tensorflow/blob/main/Tensorflow_basic.ipynb\" target=\"_parent\"><img src=\"https://colab.research.google.com/assets/colab-badge.svg\" alt=\"Open In Colab\"/></a>"
      ]
    },
    {
      "cell_type": "code",
      "execution_count": 3,
      "metadata": {
        "id": "XMoxSMLUSYDK"
      },
      "outputs": [],
      "source": [
        "import tensorflow as tf"
      ]
    },
    {
      "cell_type": "code",
      "source": [
        "# tensorflow의 가장 기초적인 자료형\n",
        "tensor = tf.constant(3)\n",
        "print(tensor)"
      ],
      "metadata": {
        "colab": {
          "base_uri": "https://localhost:8080/"
        },
        "id": "tv5RGS4CSfNZ",
        "outputId": "2e6e3b36-2650-43af-d5a3-a37abd8b6375"
      },
      "execution_count": 4,
      "outputs": [
        {
          "output_type": "stream",
          "name": "stdout",
          "text": [
            "tf.Tensor(3, shape=(), dtype=int32)\n"
          ]
        }
      ]
    },
    {
      "cell_type": "code",
      "source": [
        "tensor = tf.constant( [3,4,5])\n",
        "tensor2 = tf.constant([ 6,7,8])\n",
        "print(tensor+tensor2)"
      ],
      "metadata": {
        "colab": {
          "base_uri": "https://localhost:8080/"
        },
        "id": "IeBHNCfWSfPP",
        "outputId": "8730ccb8-c4a5-4e97-8773-315e1637b457"
      },
      "execution_count": 5,
      "outputs": [
        {
          "output_type": "stream",
          "name": "stdout",
          "text": [
            "tf.Tensor([ 9 11 13], shape=(3,), dtype=int32)\n"
          ]
        }
      ]
    },
    {
      "cell_type": "code",
      "source": [
        " # 행렬의 상하배치\n",
        " tensor3 = tf.constant([[1,2],\n",
        "                        [3,4]])"
      ],
      "metadata": {
        "id": "y0U0w_p0SfSZ"
      },
      "execution_count": 6,
      "outputs": []
    },
    {
      "cell_type": "code",
      "source": [
        "# 행렬간의 덧셈\n",
        "print(tf.add(tensor, tensor2))"
      ],
      "metadata": {
        "colab": {
          "base_uri": "https://localhost:8080/"
        },
        "id": "aWNccgJDVBTS",
        "outputId": "e6944e49-52b3-4861-d2b6-0246f50997e6"
      },
      "execution_count": 7,
      "outputs": [
        {
          "output_type": "stream",
          "name": "stdout",
          "text": [
            "tf.Tensor([ 9 11 13], shape=(3,), dtype=int32)\n"
          ]
        }
      ]
    },
    {
      "cell_type": "code",
      "source": [
        "tensor4= tf.zeros([2,2,3])\n",
        "print(tensor4)\n",
        "# 뒤에서부터 해석, 3개의 0이 들어있는 행 2개를 생성하고 그것들을 2개 생성"
      ],
      "metadata": {
        "colab": {
          "base_uri": "https://localhost:8080/"
        },
        "id": "XEVyEUyIVMNm",
        "outputId": "ecacc827-c689-4a89-a202-1913faa90e65"
      },
      "execution_count": 10,
      "outputs": [
        {
          "output_type": "stream",
          "name": "stdout",
          "text": [
            "tf.Tensor(\n",
            "[[[0. 0. 0.]\n",
            "  [0. 0. 0.]]\n",
            "\n",
            " [[0. 0. 0.]\n",
            "  [0. 0. 0.]]], shape=(2, 2, 3), dtype=float32)\n"
          ]
        }
      ]
    },
    {
      "cell_type": "code",
      "source": [
        "print(tensor.shape)\n",
        "# 자료가 3개 들어있다.\n",
        "# shape 해석이 중요 몇 차원의 데이터인지 알아야 분석이 쉬움"
      ],
      "metadata": {
        "colab": {
          "base_uri": "https://localhost:8080/"
        },
        "id": "INgSuHvKWDVW",
        "outputId": "652c9eab-61c0-4f26-9998-3a51eeeb8f67"
      },
      "execution_count": 11,
      "outputs": [
        {
          "output_type": "stream",
          "name": "stdout",
          "text": [
            "(3,)\n"
          ]
        }
      ]
    },
    {
      "cell_type": "code",
      "source": [
        "print(tensor3.shape)\n",
        "# 2개의 데이터가 2개 있다"
      ],
      "metadata": {
        "colab": {
          "base_uri": "https://localhost:8080/"
        },
        "id": "7n1Jib0CWDXb",
        "outputId": "6ede6af9-0538-44d4-fc05-c5dcc4da46ec"
      },
      "execution_count": 12,
      "outputs": [
        {
          "output_type": "stream",
          "name": "stdout",
          "text": [
            "(2, 2)\n"
          ]
        }
      ]
    },
    {
      "cell_type": "code",
      "source": [
        "tf.cast()\n",
        "# 데이터 타입을 바꾸는 함수"
      ],
      "metadata": {
        "id": "GQQ-A3mYWDZy"
      },
      "execution_count": null,
      "outputs": []
    },
    {
      "cell_type": "code",
      "source": [
        "# weight 만들기\n",
        "w = tf.Variable(1.0)\n",
        "print(w)"
      ],
      "metadata": {
        "colab": {
          "base_uri": "https://localhost:8080/"
        },
        "id": "qdGpdInEWDb3",
        "outputId": "979d1edf-fb7e-4118-e603-64c8bde5d675"
      },
      "execution_count": 13,
      "outputs": [
        {
          "output_type": "stream",
          "name": "stdout",
          "text": [
            "<tf.Variable 'Variable:0' shape=() dtype=float32, numpy=1.0>\n"
          ]
        }
      ]
    },
    {
      "cell_type": "code",
      "source": [
        "# 할당량 변경\n",
        "w.assign(2)\n",
        "print(w)"
      ],
      "metadata": {
        "colab": {
          "base_uri": "https://localhost:8080/"
        },
        "id": "bt4XpgmtWDeN",
        "outputId": "5b9ae09b-0b8f-4fd3-bcfb-520fa313e670"
      },
      "execution_count": 14,
      "outputs": [
        {
          "output_type": "stream",
          "name": "stdout",
          "text": [
            "<tf.Variable 'Variable:0' shape=() dtype=float32, numpy=2.0>\n"
          ]
        }
      ]
    }
  ]
}