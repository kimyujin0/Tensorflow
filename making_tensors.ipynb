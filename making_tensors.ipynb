{
  "nbformat": 4,
  "nbformat_minor": 0,
  "metadata": {
    "colab": {
      "provenance": [],
      "authorship_tag": "ABX9TyONspyUSy5IFlG4pDsMTpYo",
      "include_colab_link": true
    },
    "kernelspec": {
      "name": "python3",
      "display_name": "Python 3"
    },
    "language_info": {
      "name": "python"
    }
  },
  "cells": [
    {
      "cell_type": "markdown",
      "metadata": {
        "id": "view-in-github",
        "colab_type": "text"
      },
      "source": [
        "<a href=\"https://colab.research.google.com/github/kimyujin0/Tensorflow/blob/main/making_tensors.ipynb\" target=\"_parent\"><img src=\"https://colab.research.google.com/assets/colab-badge.svg\" alt=\"Open In Colab\"/></a>"
      ]
    },
    {
      "cell_type": "code",
      "execution_count": 1,
      "metadata": {
        "id": "YQFKr1jedI1U"
      },
      "outputs": [],
      "source": [
        "import tensorflow as tf\n",
        "import numpy as np"
      ]
    },
    {
      "cell_type": "code",
      "source": [
        "test_list = [1,1,1,1,1]\n",
        "t1 = tf.constant(test_list)\n",
        "print(t1)"
      ],
      "metadata": {
        "colab": {
          "base_uri": "https://localhost:8080/"
        },
        "id": "8jRjZfxadQW1",
        "outputId": "5b0af777-1126-4aaf-fa67-2dee3e65af16"
      },
      "execution_count": 2,
      "outputs": [
        {
          "output_type": "stream",
          "name": "stdout",
          "text": [
            "tf.Tensor([1 1 1 1 1], shape=(5,), dtype=int32)\n"
          ]
        }
      ]
    },
    {
      "cell_type": "code",
      "source": [
        "t2 = tf.ones(shape=(100,3)) # 3개의 열로 100개\n",
        "print(t2)"
      ],
      "metadata": {
        "colab": {
          "base_uri": "https://localhost:8080/"
        },
        "id": "QFqkhwHAdQZL",
        "outputId": "3cedd536-351e-4d15-db81-e712da33ea0f"
      },
      "execution_count": 5,
      "outputs": [
        {
          "output_type": "stream",
          "name": "stdout",
          "text": [
            "tf.Tensor(\n",
            "[[1. 1. 1.]\n",
            " [1. 1. 1.]\n",
            " [1. 1. 1.]\n",
            " [1. 1. 1.]\n",
            " [1. 1. 1.]\n",
            " [1. 1. 1.]\n",
            " [1. 1. 1.]\n",
            " [1. 1. 1.]\n",
            " [1. 1. 1.]\n",
            " [1. 1. 1.]\n",
            " [1. 1. 1.]\n",
            " [1. 1. 1.]\n",
            " [1. 1. 1.]\n",
            " [1. 1. 1.]\n",
            " [1. 1. 1.]\n",
            " [1. 1. 1.]\n",
            " [1. 1. 1.]\n",
            " [1. 1. 1.]\n",
            " [1. 1. 1.]\n",
            " [1. 1. 1.]\n",
            " [1. 1. 1.]\n",
            " [1. 1. 1.]\n",
            " [1. 1. 1.]\n",
            " [1. 1. 1.]\n",
            " [1. 1. 1.]\n",
            " [1. 1. 1.]\n",
            " [1. 1. 1.]\n",
            " [1. 1. 1.]\n",
            " [1. 1. 1.]\n",
            " [1. 1. 1.]\n",
            " [1. 1. 1.]\n",
            " [1. 1. 1.]\n",
            " [1. 1. 1.]\n",
            " [1. 1. 1.]\n",
            " [1. 1. 1.]\n",
            " [1. 1. 1.]\n",
            " [1. 1. 1.]\n",
            " [1. 1. 1.]\n",
            " [1. 1. 1.]\n",
            " [1. 1. 1.]\n",
            " [1. 1. 1.]\n",
            " [1. 1. 1.]\n",
            " [1. 1. 1.]\n",
            " [1. 1. 1.]\n",
            " [1. 1. 1.]\n",
            " [1. 1. 1.]\n",
            " [1. 1. 1.]\n",
            " [1. 1. 1.]\n",
            " [1. 1. 1.]\n",
            " [1. 1. 1.]\n",
            " [1. 1. 1.]\n",
            " [1. 1. 1.]\n",
            " [1. 1. 1.]\n",
            " [1. 1. 1.]\n",
            " [1. 1. 1.]\n",
            " [1. 1. 1.]\n",
            " [1. 1. 1.]\n",
            " [1. 1. 1.]\n",
            " [1. 1. 1.]\n",
            " [1. 1. 1.]\n",
            " [1. 1. 1.]\n",
            " [1. 1. 1.]\n",
            " [1. 1. 1.]\n",
            " [1. 1. 1.]\n",
            " [1. 1. 1.]\n",
            " [1. 1. 1.]\n",
            " [1. 1. 1.]\n",
            " [1. 1. 1.]\n",
            " [1. 1. 1.]\n",
            " [1. 1. 1.]\n",
            " [1. 1. 1.]\n",
            " [1. 1. 1.]\n",
            " [1. 1. 1.]\n",
            " [1. 1. 1.]\n",
            " [1. 1. 1.]\n",
            " [1. 1. 1.]\n",
            " [1. 1. 1.]\n",
            " [1. 1. 1.]\n",
            " [1. 1. 1.]\n",
            " [1. 1. 1.]\n",
            " [1. 1. 1.]\n",
            " [1. 1. 1.]\n",
            " [1. 1. 1.]\n",
            " [1. 1. 1.]\n",
            " [1. 1. 1.]\n",
            " [1. 1. 1.]\n",
            " [1. 1. 1.]\n",
            " [1. 1. 1.]\n",
            " [1. 1. 1.]\n",
            " [1. 1. 1.]\n",
            " [1. 1. 1.]\n",
            " [1. 1. 1.]\n",
            " [1. 1. 1.]\n",
            " [1. 1. 1.]\n",
            " [1. 1. 1.]\n",
            " [1. 1. 1.]\n",
            " [1. 1. 1.]\n",
            " [1. 1. 1.]\n",
            " [1. 1. 1.]\n",
            " [1. 1. 1.]], shape=(100, 3), dtype=float32)\n"
          ]
        }
      ]
    },
    {
      "cell_type": "code",
      "source": [
        "t2 = tf.ones(shape=(128,128,3))\n",
        "print(t2)"
      ],
      "metadata": {
        "colab": {
          "base_uri": "https://localhost:8080/"
        },
        "id": "RjAZ5qEhdQbX",
        "outputId": "1a509787-d57e-4b60-889a-6fa7d3c0e2b9"
      },
      "execution_count": 6,
      "outputs": [
        {
          "output_type": "stream",
          "name": "stdout",
          "text": [
            "tf.Tensor(\n",
            "[[[1. 1. 1.]\n",
            "  [1. 1. 1.]\n",
            "  [1. 1. 1.]\n",
            "  ...\n",
            "  [1. 1. 1.]\n",
            "  [1. 1. 1.]\n",
            "  [1. 1. 1.]]\n",
            "\n",
            " [[1. 1. 1.]\n",
            "  [1. 1. 1.]\n",
            "  [1. 1. 1.]\n",
            "  ...\n",
            "  [1. 1. 1.]\n",
            "  [1. 1. 1.]\n",
            "  [1. 1. 1.]]\n",
            "\n",
            " [[1. 1. 1.]\n",
            "  [1. 1. 1.]\n",
            "  [1. 1. 1.]\n",
            "  ...\n",
            "  [1. 1. 1.]\n",
            "  [1. 1. 1.]\n",
            "  [1. 1. 1.]]\n",
            "\n",
            " ...\n",
            "\n",
            " [[1. 1. 1.]\n",
            "  [1. 1. 1.]\n",
            "  [1. 1. 1.]\n",
            "  ...\n",
            "  [1. 1. 1.]\n",
            "  [1. 1. 1.]\n",
            "  [1. 1. 1.]]\n",
            "\n",
            " [[1. 1. 1.]\n",
            "  [1. 1. 1.]\n",
            "  [1. 1. 1.]\n",
            "  ...\n",
            "  [1. 1. 1.]\n",
            "  [1. 1. 1.]\n",
            "  [1. 1. 1.]]\n",
            "\n",
            " [[1. 1. 1.]\n",
            "  [1. 1. 1.]\n",
            "  [1. 1. 1.]\n",
            "  ...\n",
            "  [1. 1. 1.]\n",
            "  [1. 1. 1.]\n",
            "  [1. 1. 1.]]], shape=(128, 128, 3), dtype=float32)\n"
          ]
        }
      ]
    },
    {
      "cell_type": "code",
      "source": [
        "t3 = tf.zeros(shape=(128,128,3))\n",
        "# t3 = 0*tf.ones(shape=(128,128,3))\n",
        "print(t3)\n",
        "# numpy와 비슷"
      ],
      "metadata": {
        "colab": {
          "base_uri": "https://localhost:8080/"
        },
        "id": "7ZA8Q8qZdQda",
        "outputId": "b73b9e34-452b-4d4c-b3f1-609d52f536ee"
      },
      "execution_count": 7,
      "outputs": [
        {
          "output_type": "stream",
          "name": "stdout",
          "text": [
            "tf.Tensor(\n",
            "[[[0. 0. 0.]\n",
            "  [0. 0. 0.]\n",
            "  [0. 0. 0.]\n",
            "  ...\n",
            "  [0. 0. 0.]\n",
            "  [0. 0. 0.]\n",
            "  [0. 0. 0.]]\n",
            "\n",
            " [[0. 0. 0.]\n",
            "  [0. 0. 0.]\n",
            "  [0. 0. 0.]\n",
            "  ...\n",
            "  [0. 0. 0.]\n",
            "  [0. 0. 0.]\n",
            "  [0. 0. 0.]]\n",
            "\n",
            " [[0. 0. 0.]\n",
            "  [0. 0. 0.]\n",
            "  [0. 0. 0.]\n",
            "  ...\n",
            "  [0. 0. 0.]\n",
            "  [0. 0. 0.]\n",
            "  [0. 0. 0.]]\n",
            "\n",
            " ...\n",
            "\n",
            " [[0. 0. 0.]\n",
            "  [0. 0. 0.]\n",
            "  [0. 0. 0.]\n",
            "  ...\n",
            "  [0. 0. 0.]\n",
            "  [0. 0. 0.]\n",
            "  [0. 0. 0.]]\n",
            "\n",
            " [[0. 0. 0.]\n",
            "  [0. 0. 0.]\n",
            "  [0. 0. 0.]\n",
            "  ...\n",
            "  [0. 0. 0.]\n",
            "  [0. 0. 0.]\n",
            "  [0. 0. 0.]]\n",
            "\n",
            " [[0. 0. 0.]\n",
            "  [0. 0. 0.]\n",
            "  [0. 0. 0.]\n",
            "  ...\n",
            "  [0. 0. 0.]\n",
            "  [0. 0. 0.]\n",
            "  [0. 0. 0.]]], shape=(128, 128, 3), dtype=float32)\n"
          ]
        }
      ]
    },
    {
      "cell_type": "code",
      "source": [
        "Pi = np.pi\n",
        "t4 = Pi*tf.ones(shape=(128,128,3))\n",
        "print(t4)"
      ],
      "metadata": {
        "colab": {
          "base_uri": "https://localhost:8080/"
        },
        "id": "vaGvWBrVdQfw",
        "outputId": "b3d5d708-634b-4255-fd1b-8780fc6296fe"
      },
      "execution_count": 10,
      "outputs": [
        {
          "output_type": "stream",
          "name": "stdout",
          "text": [
            "tf.Tensor(\n",
            "[[[3.1415927 3.1415927 3.1415927]\n",
            "  [3.1415927 3.1415927 3.1415927]\n",
            "  [3.1415927 3.1415927 3.1415927]\n",
            "  ...\n",
            "  [3.1415927 3.1415927 3.1415927]\n",
            "  [3.1415927 3.1415927 3.1415927]\n",
            "  [3.1415927 3.1415927 3.1415927]]\n",
            "\n",
            " [[3.1415927 3.1415927 3.1415927]\n",
            "  [3.1415927 3.1415927 3.1415927]\n",
            "  [3.1415927 3.1415927 3.1415927]\n",
            "  ...\n",
            "  [3.1415927 3.1415927 3.1415927]\n",
            "  [3.1415927 3.1415927 3.1415927]\n",
            "  [3.1415927 3.1415927 3.1415927]]\n",
            "\n",
            " [[3.1415927 3.1415927 3.1415927]\n",
            "  [3.1415927 3.1415927 3.1415927]\n",
            "  [3.1415927 3.1415927 3.1415927]\n",
            "  ...\n",
            "  [3.1415927 3.1415927 3.1415927]\n",
            "  [3.1415927 3.1415927 3.1415927]\n",
            "  [3.1415927 3.1415927 3.1415927]]\n",
            "\n",
            " ...\n",
            "\n",
            " [[3.1415927 3.1415927 3.1415927]\n",
            "  [3.1415927 3.1415927 3.1415927]\n",
            "  [3.1415927 3.1415927 3.1415927]\n",
            "  ...\n",
            "  [3.1415927 3.1415927 3.1415927]\n",
            "  [3.1415927 3.1415927 3.1415927]\n",
            "  [3.1415927 3.1415927 3.1415927]]\n",
            "\n",
            " [[3.1415927 3.1415927 3.1415927]\n",
            "  [3.1415927 3.1415927 3.1415927]\n",
            "  [3.1415927 3.1415927 3.1415927]\n",
            "  ...\n",
            "  [3.1415927 3.1415927 3.1415927]\n",
            "  [3.1415927 3.1415927 3.1415927]\n",
            "  [3.1415927 3.1415927 3.1415927]]\n",
            "\n",
            " [[3.1415927 3.1415927 3.1415927]\n",
            "  [3.1415927 3.1415927 3.1415927]\n",
            "  [3.1415927 3.1415927 3.1415927]\n",
            "  ...\n",
            "  [3.1415927 3.1415927 3.1415927]\n",
            "  [3.1415927 3.1415927 3.1415927]\n",
            "  [3.1415927 3.1415927 3.1415927]]], shape=(128, 128, 3), dtype=float32)\n"
          ]
        }
      ]
    },
    {
      "cell_type": "code",
      "source": [
        "test_list = [[1,2,3],[4,5,6]]\n",
        "t1 = tf.Variable(test_list)\n",
        "print(t1)"
      ],
      "metadata": {
        "colab": {
          "base_uri": "https://localhost:8080/"
        },
        "id": "d3WSOujTeTX9",
        "outputId": "5b4c6268-f756-4b7f-efd1-0b9f2363866a"
      },
      "execution_count": 12,
      "outputs": [
        {
          "output_type": "stream",
          "name": "stdout",
          "text": [
            "<tf.Variable 'Variable:0' shape=(2, 3) dtype=int32, numpy=\n",
            "array([[1, 2, 3],\n",
            "       [4, 5, 6]], dtype=int32)>\n"
          ]
        }
      ]
    },
    {
      "cell_type": "code",
      "source": [
        "t2 = tf.ones_like(t1)\n",
        "# t1과 shape가 비슷한 1로 채워진 행렬\n",
        "print(t2)"
      ],
      "metadata": {
        "colab": {
          "base_uri": "https://localhost:8080/"
        },
        "id": "SiUptlYoeTaF",
        "outputId": "a5126a29-0cfa-4543-f5af-4857ad1c4f72"
      },
      "execution_count": 13,
      "outputs": [
        {
          "output_type": "stream",
          "name": "stdout",
          "text": [
            "tf.Tensor(\n",
            "[[1 1 1]\n",
            " [1 1 1]], shape=(2, 3), dtype=int32)\n"
          ]
        }
      ]
    },
    {
      "cell_type": "code",
      "source": [
        "# np.random.seed(0)\n",
        "# tf.random.set_seed(0) - random effect를 줄이고 같은 결과를 내보낼 때 사용\n",
        "t5 = tf.random.normal(shape=(10,10))\n",
        "print(t5)"
      ],
      "metadata": {
        "colab": {
          "base_uri": "https://localhost:8080/"
        },
        "id": "CaX6i6KfeTcd",
        "outputId": "f6157a57-dfde-4d45-b801-87ecc77534cb"
      },
      "execution_count": 14,
      "outputs": [
        {
          "output_type": "stream",
          "name": "stdout",
          "text": [
            "tf.Tensor(\n",
            "[[-2.2359584e-02 -4.8303384e-01  5.1254642e-01  4.9798566e-01\n",
            "   2.5506368e-01  1.9233136e+00  9.7034532e-01 -7.2904840e-02\n",
            "  -2.6249247e+00 -1.6492944e+00]\n",
            " [-3.7216052e-01 -4.2940568e-02  9.2291027e-01  2.4513723e-01\n",
            "   5.7276368e-01 -1.1215575e+00  5.9847736e-01  1.1346108e-02\n",
            "  -2.4215627e-01  7.2730356e-01]\n",
            " [-1.4956651e+00 -8.4056950e-01  1.8826702e+00 -5.8408958e-01\n",
            "  -7.7975303e-01  1.4745872e+00  5.0577644e-02 -7.8985089e-01\n",
            "  -3.0369163e+00  1.3777916e+00]\n",
            " [ 7.1553755e-01 -3.6626258e-01  8.0084406e-02 -4.6265250e-01\n",
            "  -2.1393638e+00  1.6500816e+00 -5.2069955e-02 -7.3495054e-01\n",
            "  -2.3492944e+00 -2.6593010e+00]\n",
            " [ 3.3809558e-02  1.6581856e+00  2.2428322e+00 -2.2895191e+00\n",
            "   1.1814793e+00 -3.3748171e-01  3.1804245e+00 -1.7378337e-04\n",
            "  -6.6576624e-01  9.6254236e-01]\n",
            " [ 6.7385042e-01  3.0641234e-01  1.5879639e+00  3.9025167e-01\n",
            "   1.3834707e+00 -2.2391310e+00 -5.9315592e-01 -6.9239688e-01\n",
            "  -1.7976140e+00 -6.5840155e-01]\n",
            " [ 1.3801052e-02  7.7147770e-01 -4.5846488e-02 -5.1854897e-01\n",
            "  -1.4580522e-01 -2.2458991e-01  1.9180252e-01 -2.4845321e+00\n",
            "  -6.2902552e-01  4.0281388e-01]\n",
            " [-1.4397619e+00  1.5350536e+00 -1.6751927e+00  1.5858833e+00\n",
            "  -2.1116691e+00 -2.7705330e-01  1.3584535e-01 -4.0758720e-01\n",
            "   1.5334888e+00 -5.8709210e-01]\n",
            " [ 1.8842268e+00  2.2658408e+00  1.6789319e-01  4.3665749e-01\n",
            "   1.2356288e+00  1.4231889e+00 -4.9839166e-01 -7.6947546e-01\n",
            "   9.8902717e-02 -6.0007811e-01]\n",
            " [ 1.5092939e+00  4.3181905e-01  8.8208097e-01 -1.2175707e+00\n",
            "   1.3764127e-01 -8.6893630e-01 -9.9420589e-01  7.1916485e-01\n",
            "   1.2160090e-01  3.6221844e-01]], shape=(10, 10), dtype=float32)\n"
          ]
        }
      ]
    },
    {
      "cell_type": "code",
      "source": [
        "t6 = tf.random.normal(mean=3, stddev =1, shape=(1000,))\n",
        "print(t6)"
      ],
      "metadata": {
        "colab": {
          "base_uri": "https://localhost:8080/"
        },
        "id": "dY4-5rBSeTee",
        "outputId": "48cb08a8-a606-46d8-f30e-cb7209065098"
      },
      "execution_count": 29,
      "outputs": [
        {
          "output_type": "stream",
          "name": "stdout",
          "text": [
            "tf.Tensor(\n",
            "[ 2.1765823   2.2418323   2.2717214   3.1867137   3.0649688   2.3968413\n",
            "  2.118407    3.0564356   2.4827676   1.1966146   3.0213828   4.37995\n",
            "  2.0633101   2.365652    2.3123567   3.4000359   4.9156947   2.443936\n",
            "  2.5954099   1.0486714   1.5384872   2.8179142   3.3804834   2.050906\n",
            "  3.5922513   2.2984176   3.3464704   3.524084    3.9271011   3.0236754\n",
            "  4.738847    4.314595    0.8796582   1.3251294   2.579631    2.2829938\n",
            "  5.0317698   2.8164246   4.5946407   3.995884    3.0677426   1.2320957\n",
            "  2.19032     1.9782921   4.004599    3.8615003   2.9723883   1.612901\n",
            "  3.8061686   3.0990472   3.2002254   2.9925585   3.7850988   2.8971086\n",
            "  3.3384025   3.4262176   4.302914    3.1520398   2.9508264   4.8194065\n",
            "  1.0170188   2.6297693   2.3180892   2.936349    3.3693893   1.9572865\n",
            "  5.584204    2.1302035   3.38127     3.9371588   2.6073818   2.2422402\n",
            "  2.261877    4.091351   -0.15782166  2.4791377   1.8320732   1.8161081\n",
            "  1.2682954   2.0457933   2.4809103   2.995522    2.8532052   0.33060575\n",
            "  3.016006    2.24554     2.9303367   3.1891983   5.282153    2.7831745\n",
            "  3.2333417   2.2021036   3.12504     2.4030495   2.2592602   2.2530355\n",
            "  4.242199    4.0156746   2.765273    0.7789171   5.5485125   3.920074\n",
            "  2.6283557   3.445512    3.0393152   2.4602723   3.0015028   2.7003827\n",
            "  3.8408737   2.159479    2.293366    5.130721    3.361537    1.862279\n",
            "  3.3442295   2.6511846   2.1138191   3.8121698   3.8956404   2.189893\n",
            "  2.960103    4.906002    3.0466483   3.4402921   3.2337413   3.9086926\n",
            "  3.0669682   2.9946744   4.868002    3.0866702   3.2580645   1.9947598\n",
            "  4.6590176   1.2102654   2.5973592   3.0901947   1.9363574   3.376607\n",
            "  2.0384352   4.9056892   2.377806    3.8718817   2.8194106   0.8379028\n",
            "  2.556287    2.4290936   2.6006067   4.9139915   4.012006    2.071227\n",
            "  3.960493    2.7470324   3.9743407   1.3830006   3.753487    2.5098116\n",
            "  2.2264361   1.9961437   2.529779    1.7604614   2.198758    3.0550733\n",
            "  1.8173352   2.8395414   2.681311    1.8267876   2.799027    2.861229\n",
            "  1.5287793   2.7252548   1.9738806   2.3886967   2.245585    2.3388252\n",
            "  2.3031375   2.3758922   3.1601076   2.7531075   4.056668    1.4602265\n",
            "  2.9133415   2.3890693   3.2478478   2.1319325   2.0032954   3.4555078\n",
            "  3.4072933   3.1899176   4.6108556   3.1988773   3.8801165   2.0622678\n",
            "  1.1262442   0.7815368   3.66786     3.4728587   2.7953522   4.7005444\n",
            "  3.1458945   3.220561    1.3063791   3.1958518   2.1500034   2.120437\n",
            "  3.8290167   2.6806986   4.832669    4.3027143   2.9272463   4.842019\n",
            "  4.1028256   1.6809827   3.3885255   3.5658774   3.5931826   2.948837\n",
            "  3.340019    2.2986026   4.143829    3.824111    4.286685    1.7154541\n",
            "  2.0121758   3.499159    2.5536814   2.44253     3.1834826   2.2846315\n",
            "  3.5800533   3.1815166   2.7042904   2.1775517   0.9658201   1.5065706\n",
            "  3.6216536   2.9039583   2.5731533   1.5671866   3.5549037   4.529098\n",
            "  2.4037514   3.2114048   4.158514    3.7167826   3.070552    2.349634\n",
            "  1.0205609   3.030734    3.8997438   2.047946    4.657496    3.1351311\n",
            "  3.8260856   2.742615    2.6340604   3.3135166   1.9034615   2.2551696\n",
            "  3.0418308   4.2376447   3.2793143   2.9868793   2.1191068   3.442829\n",
            "  1.0234598   3.0424137   3.0065436   4.7847266   3.1648767   3.5317595\n",
            "  3.5893168   3.0125158   4.1707497   4.4981976   4.6681056   2.8095067\n",
            "  2.8985      3.047274    2.8070772   2.233449    3.040093    2.1061616\n",
            "  1.8957459   2.1669645   2.6356456   4.5240083   5.2086983   1.5379486\n",
            "  1.3395694   3.1678503   3.4478855   2.3112614   3.17915     2.5970469\n",
            "  3.3641174   1.8517547   3.5190156   3.3580303   1.5174363   2.6716347\n",
            "  3.1162448   3.5943017   5.4140406   3.4651384   2.730058    2.3174794\n",
            "  4.439658    4.542495    1.7841523   1.2539592   3.7467508   3.730553\n",
            "  2.7613802   2.4543505   2.5290923   1.3903439   1.252855    2.1718276\n",
            "  0.6278691   2.7783728   3.9018764   0.88074803  3.3681703   2.144504\n",
            "  3.1596973   1.9882528   3.4680822   2.6461568   3.3070617   3.1600156\n",
            "  6.04703     2.1415198   3.3521423   2.176322    2.4354825   1.5622827\n",
            "  4.7262635   2.8646054   3.6996589   0.11278367  3.441986    3.5172162\n",
            "  3.1478734   4.3532248   2.161103    3.6682422   4.201051    3.7872622\n",
            "  2.7801132   3.0517035   2.7683263   3.5864272   3.190829    3.0219467\n",
            "  2.1730494   3.4288528   1.9137003   4.830311    2.8285728   3.181261\n",
            "  1.8124224   2.6299822   3.2686076   3.494629    2.7569609   3.2821062\n",
            "  2.1313953   2.4709823   2.5682693   2.833524    2.120769    0.6088109\n",
            "  3.8483098   3.4883997   4.019053    4.890093    2.452241    3.8107367\n",
            "  3.5691292   3.2146897   2.5401273   1.5542147   1.7476004   5.0065126\n",
            "  3.3736653   2.5890212   2.810703    1.7098721   1.5371343   5.0449467\n",
            "  3.8248782   2.3133643   4.550109    1.8976187   3.0243683   2.454062\n",
            "  1.1098484   4.0389547   3.6391544   3.166489    2.713559    1.8201249\n",
            "  4.6269      1.2738603   2.6820493   3.1070886   2.2349906   1.8210987\n",
            "  2.70617     3.1480885   2.9482481   2.8752303   1.5518919   2.6569316\n",
            "  1.3612545   2.2357407   3.5820112   3.3678238   1.636292    3.4179854\n",
            "  2.24742     2.9378161   2.3177366   2.9699287   3.38349     3.0397754\n",
            "  3.0456257   4.529478    3.2071345   3.938107    2.0325763   3.640365\n",
            "  2.6020725   3.888877    2.7694628   1.7902408   3.1582408   1.5998849\n",
            "  1.397858    2.3946419   3.8157651   3.5853233   2.5535247   2.5674303\n",
            "  3.2501268   4.641813    3.2397704   1.8707238   4.60071     2.8142705\n",
            "  2.0030866   2.7562647   4.359595    1.6586155   2.0307333   3.735711\n",
            "  2.7835011   3.5243802   2.1471133   2.8137093   2.8714821   3.4323788\n",
            "  3.390313    2.1781745   4.023418    4.257821    2.4278164   3.1263542\n",
            "  1.8469903   1.9116148   1.9206816   2.8335705   3.0401034   3.7740512\n",
            "  3.2562633   3.5904322   3.8170426   2.9805784   3.33352     2.9338806\n",
            "  3.7552338   2.3119972   1.7808889   3.1421793   3.0013783   4.3701463\n",
            "  1.772598    2.7262151   2.3474414   3.7207303   2.8209355   1.8100576\n",
            "  1.2665696   3.9155095   4.1104546   1.4498141   2.7237704   2.9580073\n",
            "  4.1416993   3.3984656   3.8874822   2.7383633   1.908473    2.2141356\n",
            "  4.149271    1.9968394   5.08115     2.925137    3.8984315   1.8452661\n",
            "  3.4429326   1.9220437   3.1367536   4.4492517   3.8101814   2.1599789\n",
            "  2.683292    3.6855454   1.6346563   1.3774095   0.29257917  2.8201725\n",
            "  3.061394    4.4255137   2.2800581   2.8132093   2.4152658   2.8392766\n",
            "  2.7877362   2.2974253   3.5603275   0.95987177  3.731236    3.39141\n",
            "  3.292618    3.4370604   3.605771    3.708666    2.6715338   3.154715\n",
            "  4.055386    2.98644     3.4802861   3.0161746   3.2571244   2.4263372\n",
            "  3.7090046   3.361782    1.2706413   5.1840744   4.099314    3.9654565\n",
            "  2.599665    3.6624155   3.2995443   1.7945254   1.6960993   3.7250724\n",
            "  1.8592967   2.8281312   2.4391413   2.0176811   3.6652641   4.2254195\n",
            "  2.7725985   2.9254973   1.4714345   2.842117    4.408267    2.598046\n",
            "  3.0788198   3.4052455   2.5806      3.5953243   1.3613255   2.0570693\n",
            "  5.1619387   3.203543    1.7165842   1.7363377   2.4068708   2.516913\n",
            "  3.36545     2.323349    0.87583995  0.9596746   3.5924175   3.4385948\n",
            "  2.8780751   2.5907478   3.7847311   1.7254405   0.853482    4.0402355\n",
            "  2.3799944   3.7909727   2.413446    3.140499    2.8774936   5.537348\n",
            "  2.1173902   2.26725     3.9924037   1.8325797   2.4861164   2.4510953\n",
            "  2.7723205   0.11686993  4.858289    4.307247    2.747639    4.039894\n",
            "  1.3623991   4.661749    4.085356    1.666695    1.6967044   2.700705\n",
            "  4.009914    3.4667716   4.2537246   3.7577486   2.6929514   2.9843998\n",
            "  4.274109    3.5316358   3.0269647   3.9288712   4.324484    4.5627074\n",
            "  2.530385    3.429506    4.371407    2.0382757   3.1477609   2.684447\n",
            "  2.7333412   0.69012356  3.449153    3.7652135   4.4260178   3.318952\n",
            "  4.877477    4.298293    3.1939645   3.3677158   2.1261857   4.002247\n",
            "  3.1780567   2.345283    1.8711348   2.3829591   3.1020458   2.581151\n",
            "  3.6272323   2.647073    4.896896    0.87015367  2.2497935   2.2303195\n",
            "  2.0284736   4.26194     3.4059088   3.0724936   4.066762    3.550933\n",
            "  1.3629168   4.228778    3.6295762   3.383637    1.9178584   2.4748383\n",
            "  2.3358579   3.373995    4.1693544   1.3709562   3.3065019   2.4427876\n",
            "  1.2123766   3.2276933   4.221815    4.0487304   2.343757    3.1315024\n",
            "  1.8784109   3.8390439   1.4891384   3.1484618   3.4249883   1.7113419\n",
            "  4.2771907   3.5829723   3.322441    3.605837    2.6184475   3.278427\n",
            "  2.682464    4.6443653   2.8386497   1.5974749   4.9120073   2.564424\n",
            "  2.9541223   2.229588    4.005559    2.9366367   1.5025839   3.1611402\n",
            "  3.417739    2.8463223   2.331855    0.47949862  2.4333234   2.2358007\n",
            "  2.8436215   0.09367251  3.7408009   2.4773      3.8094485   2.9769044\n",
            "  1.0433993   2.3543363   4.388833    2.0666573   5.5903144   4.3570886\n",
            "  4.0231624   2.6754124   3.8654015   2.7025528   3.0200324   1.3478237\n",
            "  3.556504    1.138806    2.455439    2.5994365   1.5863582   3.0052073\n",
            "  3.17993     2.4307399   1.6653416   2.7325814   1.8719554   1.9174995\n",
            "  2.6414757   1.9070601   3.8280807   1.5777326   3.2585163   4.717001\n",
            "  2.3160088   1.790088    4.784148    4.3042154   1.6598405   4.2738924\n",
            "  2.463567    2.2812643   3.533216    4.2769775   2.1918902   0.80101013\n",
            "  1.936971    2.886504    2.8610663   5.700987    2.3331418   2.105001\n",
            "  3.6237638   2.7604756   2.9127297   3.9720576   3.9330413   3.858626\n",
            "  4.4613724   2.5349586   2.2532253   2.4857104   3.0068376   3.8212152\n",
            "  2.354835    3.8798125   3.7383122   2.6907299   3.7711694   1.689145\n",
            "  2.2867315   5.8142424   3.2618432   2.575725    2.5016465   2.7556584\n",
            "  2.9663026   1.5958048   1.4566668   2.6658688   1.2534722   2.6457562\n",
            "  2.7805445   1.297562    3.1131828   3.2842507   3.7038379   4.625887\n",
            "  3.6341164   3.7614102   4.0016403   3.6665955   2.2997665   2.070118\n",
            "  4.6052423   1.7898686   3.4288795   4.7018824   2.581999    6.287576\n",
            "  3.1238775   2.459157    1.4611816   2.188122    4.0919027   2.1725943\n",
            "  4.37256     3.0257757   2.3515806   3.6436253   3.110983    2.878467\n",
            "  2.6131194   2.9612103   2.1142542   3.0229044   3.031617    2.5183964\n",
            "  2.0431037   3.1059582   3.1092002   3.6366491   1.7921015   3.7759702\n",
            "  1.4404645   1.7100911   0.8735342   3.4287484   2.941172    1.7709684\n",
            "  2.293037    2.881178    2.523159    1.9850622   3.047766    3.3589623\n",
            "  2.677389    3.6951356   3.4376392   3.0334888   4.700547    4.501028\n",
            "  2.789596    1.4437139   3.8985734   2.568779    3.462158    2.5182555\n",
            "  3.499061    2.5264204   2.138689    3.180853    2.2074351   2.0177913\n",
            "  5.2297077   1.8283323   1.9370636   4.058248    2.1750052   2.4973004\n",
            "  2.9040205   2.3108745   2.5582082   2.7780728   3.4056206   2.1909876\n",
            "  2.1618457   4.247638    2.01354     3.2468061   1.8253914   3.2016902\n",
            "  4.339621    2.055735    4.55547     2.6441872   4.0193853   3.797782\n",
            "  5.0106363   3.2081459   2.2503483   2.8803792   4.2140903   2.7576108\n",
            "  1.4222997   2.9175045   1.063786    2.9973698   3.3424494   3.357215\n",
            "  2.2472053   3.209097    2.692849    3.1203482   2.7444963   2.2990196\n",
            "  2.455237    3.5564902   3.640366    2.0307317   2.276186    2.928855\n",
            "  4.9029374   2.7556956   3.0144753   5.136362    4.1021075   1.389991\n",
            "  0.6296816   1.9794871   4.9957585   3.185025    2.1689417   2.6524885\n",
            "  4.679768    2.1332204   2.0818038   2.8061423   4.3862834   2.8080578\n",
            "  2.4970708   3.920802    3.3637412   3.7255175   2.3425975   1.848156\n",
            "  3.66848     3.2178311   3.0788443   2.8741333   2.3236966   2.825657\n",
            "  4.2846155   2.698201    2.5703106   1.9780676   2.5979443   3.5078142\n",
            "  2.9428766   2.9712195   2.928973    1.082812    2.4224343   1.4449254\n",
            "  2.7848346   2.5940602   4.4234104   3.6512117   2.9306684   2.6869466\n",
            "  4.1197248   3.9870896   3.3308852   1.7898941   4.9821334   2.2770014\n",
            "  2.7007143   2.6153784   4.916385    3.5655286   2.9585855   3.3804634\n",
            "  2.6036615   4.3352356   2.4992108   2.7631798   1.9062656   2.7951698\n",
            "  3.218044    2.687427    2.5386825   1.0670367   4.260027    1.9337312\n",
            "  2.4829328   1.3229579   2.99399     2.8375196   3.97945     3.5710106\n",
            "  3.8753438   4.346301    3.1282206   3.0686204 ], shape=(1000,), dtype=float32)\n"
          ]
        }
      ]
    },
    {
      "cell_type": "code",
      "source": [
        "import matplotlib.pyplot as plt\n",
        "fig, ax = plt.subplots(figsize=(10,10))\n",
        "ax.hist(t6.numpy(),bins=30)"
      ],
      "metadata": {
        "colab": {
          "base_uri": "https://localhost:8080/",
          "height": 798
        },
        "id": "NNsalfRJflpa",
        "outputId": "aa405c70-286a-462d-f047-df9f84bbcd87"
      },
      "execution_count": 25,
      "outputs": [
        {
          "output_type": "execute_result",
          "data": {
            "text/plain": [
              "(array([  1.,   2.,   2.,   7.,  12.,   9.,  28.,  37.,  51.,  55.,  56.,\n",
              "         59.,  76.,  92., 101.,  75.,  80.,  52.,  54.,  61.,  28.,  23.,\n",
              "         14.,  10.,   2.,   7.,   2.,   2.,   1.,   1.]),\n",
              " array([-0.15656543,  0.06874855,  0.29406253,  0.5193765 ,  0.7446905 ,\n",
              "         0.97000444,  1.1953185 ,  1.4206324 ,  1.6459464 ,  1.8712603 ,\n",
              "         2.0965743 ,  2.3218882 ,  2.5472023 ,  2.7725163 ,  2.9978302 ,\n",
              "         3.223144  ,  3.4484582 ,  3.673772  ,  3.899086  ,  4.1244    ,\n",
              "         4.3497143 ,  4.575028  ,  4.800342  ,  5.0256557 ,  5.25097   ,\n",
              "         5.476284  ,  5.7015977 ,  5.926912  ,  6.152226  ,  6.3775396 ,\n",
              "         6.602854  ], dtype=float32),\n",
              " <a list of 30 Patch objects>)"
            ]
          },
          "metadata": {},
          "execution_count": 25
        },
        {
          "output_type": "display_data",
          "data": {
            "text/plain": [
              "<Figure size 720x720 with 1 Axes>"
            ],
            "image/png": "[encoded data removed]"
          },
          "metadata": {
            "needs_background": "light"
          }
        }
      ]
    },
    {
      "cell_type": "code",
      "source": [
        "t6 =tf.random.poisson(shape=(1000,), lam=5)\n",
        "fig, ax = plt.subplots(figsize=(10,10))\n",
        "ax.hist(t6.numpy(),bins=30)"
      ],
      "metadata": {
        "colab": {
          "base_uri": "https://localhost:8080/",
          "height": 798
        },
        "id": "i1FYVgzYflt0",
        "outputId": "31035123-5152-4495-f53e-794209aba439"
      },
      "execution_count": 34,
      "outputs": [
        {
          "output_type": "execute_result",
          "data": {
            "text/plain": [
              "(array([  9.,   0.,  39.,   0.,  79.,   0., 120.,   0., 182.,   0., 166.,\n",
              "          0., 140.,   0.,   0., 108.,   0.,  76.,   0.,  40.,   0.,  16.,\n",
              "          0.,  17.,   0.,   5.,   0.,   2.,   0.,   1.]),\n",
              " array([ 0.        ,  0.46666667,  0.93333334,  1.4       ,  1.8666667 ,\n",
              "         2.3333333 ,  2.8       ,  3.2666667 ,  3.7333333 ,  4.2       ,\n",
              "         4.6666665 ,  5.133333  ,  5.6       ,  6.0666666 ,  6.5333333 ,\n",
              "         7.        ,  7.4666667 ,  7.9333334 ,  8.4       ,  8.866667  ,\n",
              "         9.333333  ,  9.8       , 10.266666  , 10.733334  , 11.2       ,\n",
              "        11.666667  , 12.133333  , 12.6       , 13.066667  , 13.533334  ,\n",
              "        14.        ], dtype=float32),\n",
              " <a list of 30 Patch objects>)"
            ]
          },
          "metadata": {},
          "execution_count": 34
        },
        {
          "output_type": "display_data",
          "data": {
            "text/plain": [
              "<Figure size 720x720 with 1 Axes>"
            ],
            "image/png": "[encoded data removed]"
          },
          "metadata": {
            "needs_background": "light"
          }
        }
      ]
    },
    {
      "cell_type": "code",
      "source": [
        "# 여러가지 정보 뽑아내기\n",
        "t8 = tf.random.normal(shape=(128,128,3))\n",
        "print(\"t1.shape:\", t1.shape)\n",
        "print(\"t1.shape:\", t1.dtype)"
      ],
      "metadata": {
        "colab": {
          "base_uri": "https://localhost:8080/"
        },
        "id": "L7KskT55flvv",
        "outputId": "50109515-ad0b-426c-a5c1-65aac8454e7a"
      },
      "execution_count": 35,
      "outputs": [
        {
          "output_type": "stream",
          "name": "stdout",
          "text": [
            "t1.shape: (2, 3)\n",
            "t1.shape: <dtype: 'int32'>\n"
          ]
        }
      ]
    },
    {
      "cell_type": "code",
      "source": [
        "test_np = np.random.randint(-10,10,size=(100,))\n",
        "print(test_np.dtype)\n",
        "# int 64로 출력"
      ],
      "metadata": {
        "colab": {
          "base_uri": "https://localhost:8080/"
        },
        "id": "-5899OT6flxm",
        "outputId": "7e0f454a-55c6-4311-d7ee-26127d1d6600"
      },
      "execution_count": 38,
      "outputs": [
        {
          "output_type": "stream",
          "name": "stdout",
          "text": [
            "int64\n"
          ]
        }
      ]
    },
    {
      "cell_type": "code",
      "source": [
        "# 기본적으로 32를 원함\n",
        "t9 = tf.constant(test_np, dtype=tf.float32)\n",
        "print(t9.dtype)"
      ],
      "metadata": {
        "colab": {
          "base_uri": "https://localhost:8080/"
        },
        "id": "2L-oG-vLflzr",
        "outputId": "e688967a-75a8-4058-947d-4e069085d588"
      },
      "execution_count": 37,
      "outputs": [
        {
          "output_type": "stream",
          "name": "stdout",
          "text": [
            "<dtype: 'float32'>\n"
          ]
        }
      ]
    }
  ]
}