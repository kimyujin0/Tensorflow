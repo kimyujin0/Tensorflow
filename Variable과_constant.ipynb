{
  "nbformat": 4,
  "nbformat_minor": 0,
  "metadata": {
    "colab": {
      "provenance": [],
      "authorship_tag": "ABX9TyP5IUCLU8zinzUwruWmnT1d",
      "include_colab_link": true
    },
    "kernelspec": {
      "name": "python3",
      "display_name": "Python 3"
    },
    "language_info": {
      "name": "python"
    }
  },
  "cells": [
    {
      "cell_type": "markdown",
      "metadata": {
        "id": "view-in-github",
        "colab_type": "text"
      },
      "source": [
        "<a href=\"https://colab.research.google.com/github/kimyujin0/Tensorflow/blob/main/Variable%EA%B3%BC_constant.ipynb\" target=\"_parent\"><img src=\"https://colab.research.google.com/assets/colab-badge.svg\" alt=\"Open In Colab\"/></a>"
      ]
    },
    {
      "cell_type": "code",
      "execution_count": 7,
      "metadata": {
        "id": "GPlGqafFJDGV"
      },
      "outputs": [],
      "source": [
        "import tensorflow as tf\n",
        "import numpy as np"
      ]
    },
    {
      "cell_type": "code",
      "source": [
        "t1 = tf.Variable([1,2,3])\n",
        "t2 = tf.constant([1,2,3])"
      ],
      "metadata": {
        "id": "yRenZ82tYlrx"
      },
      "execution_count": 3,
      "outputs": []
    },
    {
      "cell_type": "code",
      "source": [
        "print(t1)\n",
        "print(t2)"
      ],
      "metadata": {
        "colab": {
          "base_uri": "https://localhost:8080/"
        },
        "id": "3F59Sx5LYlv_",
        "outputId": "da029a43-f3b8-4fe9-fbcd-cfd1dae8cfc1"
      },
      "execution_count": 4,
      "outputs": [
        {
          "output_type": "stream",
          "name": "stdout",
          "text": [
            "<tf.Variable 'Variable:0' shape=(3,) dtype=int32, numpy=array([1, 2, 3], dtype=int32)>\n",
            "tf.Tensor([1 2 3], shape=(3,), dtype=int32)\n"
          ]
        }
      ]
    },
    {
      "cell_type": "code",
      "source": [
        "print(type(t1)) # dataset 안 모델 안에서 학습되는 것\n",
        "print(type(t2)) # 변할수가 없는 것(dataset같은)"
      ],
      "metadata": {
        "colab": {
          "base_uri": "https://localhost:8080/"
        },
        "id": "_EYtnzNxYlzw",
        "outputId": "f9d6a190-22a0-4d7f-c8ed-9fa20f9abf72"
      },
      "execution_count": 5,
      "outputs": [
        {
          "output_type": "stream",
          "name": "stdout",
          "text": [
            "<class 'tensorflow.python.ops.resource_variable_ops.ResourceVariable'>\n",
            "<class 'tensorflow.python.framework.ops.EagerTensor'>\n"
          ]
        }
      ]
    },
    {
      "cell_type": "code",
      "source": [
        "test_list = [1,2,3]\n",
        "test_np = np.array([1,2,3])"
      ],
      "metadata": {
        "id": "p-H7mEo2Yl2Q"
      },
      "execution_count": 8,
      "outputs": []
    },
    {
      "cell_type": "code",
      "source": [
        "t1 = tf.constant(t1)\n",
        "t2 = tf.constant(test_np)"
      ],
      "metadata": {
        "id": "xA82pEKGYl4s"
      },
      "execution_count": 9,
      "outputs": []
    },
    {
      "cell_type": "code",
      "source": [
        "print(t1)\n",
        "print(t2)"
      ],
      "metadata": {
        "colab": {
          "base_uri": "https://localhost:8080/"
        },
        "id": "PMmUIg2yYl7H",
        "outputId": "fb0eca92-4b26-4dfa-9181-d72683ded12a"
      },
      "execution_count": 10,
      "outputs": [
        {
          "output_type": "stream",
          "name": "stdout",
          "text": [
            "tf.Tensor([1 2 3], shape=(3,), dtype=int32)\n",
            "tf.Tensor([1 2 3], shape=(3,), dtype=int64)\n"
          ]
        }
      ]
    },
    {
      "cell_type": "code",
      "source": [
        "test_list = [1,2,3]\n",
        "test_np = np.array([1,2,3])"
      ],
      "metadata": {
        "id": "-lzr_ycTYl9Y"
      },
      "execution_count": 11,
      "outputs": []
    },
    {
      "cell_type": "code",
      "source": [
        "t1 = tf.Variable(t1)\n",
        "t2 = tf.Variable(test_np)"
      ],
      "metadata": {
        "id": "QQIzL5k-YmAJ"
      },
      "execution_count": 12,
      "outputs": []
    },
    {
      "cell_type": "code",
      "source": [
        "print(t1)\n",
        "print(t2)"
      ],
      "metadata": {
        "colab": {
          "base_uri": "https://localhost:8080/"
        },
        "id": "6a0VDA-xaba-",
        "outputId": "57dd79dc-22ab-406d-97c6-80621b2f3a11"
      },
      "execution_count": 13,
      "outputs": [
        {
          "output_type": "stream",
          "name": "stdout",
          "text": [
            "<tf.Variable 'Variable:0' shape=(3,) dtype=int32, numpy=array([1, 2, 3], dtype=int32)>\n",
            "<tf.Variable 'Variable:0' shape=(3,) dtype=int64, numpy=array([1, 2, 3])>\n"
          ]
        }
      ]
    },
    {
      "cell_type": "code",
      "source": [
        "t1 = tf.constant(test_list)\n",
        "t2 = tf.Variable(test_list)\n",
        "t3 = tf.Variable(t1)\n",
        "# constant tensor는 Variable로 변환 가능\n",
        "# Variable tensor는 constant로 변환 불가"
      ],
      "metadata": {
        "id": "7uWPrQrLao5_"
      },
      "execution_count": 15,
      "outputs": []
    },
    {
      "cell_type": "code",
      "source": [
        "# Variable tensor -> constant tensor\n",
        "t4 = tf.convert_to_tensor(test_list)\n",
        "t5 = tf.convert_to_tensor(test_np)\n",
        "print(type(t4))\n",
        "print(type(t5))"
      ],
      "metadata": {
        "colab": {
          "base_uri": "https://localhost:8080/"
        },
        "id": "HsAYhcueao8d",
        "outputId": "42cf3e52-9bec-49a6-ce48-4bc745519b92"
      },
      "execution_count": 16,
      "outputs": [
        {
          "output_type": "stream",
          "name": "stdout",
          "text": [
            "<class 'tensorflow.python.framework.ops.EagerTensor'>\n",
            "<class 'tensorflow.python.framework.ops.EagerTensor'>\n"
          ]
        }
      ]
    },
    {
      "cell_type": "code",
      "source": [
        "test_list1 = [10,20,30]\n",
        "test_list2 = [1,2,3]"
      ],
      "metadata": {
        "id": "Sav6ZF6Mao-R"
      },
      "execution_count": 17,
      "outputs": []
    },
    {
      "cell_type": "code",
      "source": [
        "t1 = tf.constant(test_list1)\n",
        "t2 = tf.constant(test_list2)\n",
        "t3 = t1+t2\n",
        "print(type(t3))\n",
        "# constant와 constant, Variable과 Variable 사칙연산 가능"
      ],
      "metadata": {
        "colab": {
          "base_uri": "https://localhost:8080/"
        },
        "id": "89kkw49aapAR",
        "outputId": "0da21c52-fe4a-4965-e658-106de6bd736d"
      },
      "execution_count": 21,
      "outputs": [
        {
          "output_type": "stream",
          "name": "stdout",
          "text": [
            "<class 'tensorflow.python.framework.ops.EagerTensor'>\n"
          ]
        }
      ]
    }
  ]
}