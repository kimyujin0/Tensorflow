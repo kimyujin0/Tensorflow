{
  "nbformat": 4,
  "nbformat_minor": 0,
  "metadata": {
    "colab": {
      "provenance": [],
      "authorship_tag": "ABX9TyOALe9pEBatyKtUGECwI+vs",
      "include_colab_link": true
    },
    "kernelspec": {
      "name": "python3",
      "display_name": "Python 3"
    },
    "language_info": {
      "name": "python"
    }
  },
  "cells": [
    {
      "cell_type": "markdown",
      "metadata": {
        "id": "view-in-github",
        "colab_type": "text"
      },
      "source": [
        "<a href=\"https://colab.research.google.com/github/kimyujin0/Tensorflow/blob/main/tensor_operations.ipynb\" target=\"_parent\"><img src=\"https://colab.research.google.com/assets/colab-badge.svg\" alt=\"Open In Colab\"/></a>"
      ]
    },
    {
      "cell_type": "code",
      "execution_count": 1,
      "metadata": {
        "id": "R5Sjjf2saob2"
      },
      "outputs": [],
      "source": [
        "import tensorflow as tf\n",
        "import numpy as np"
      ]
    },
    {
      "cell_type": "code",
      "source": [
        "t1 = tf.constant([1,2,3])\n",
        "t2 = tf.constant([10,20,30])"
      ],
      "metadata": {
        "id": "nwj-Qcm_ard0"
      },
      "execution_count": 2,
      "outputs": []
    },
    {
      "cell_type": "code",
      "source": [
        "print(t1+t2)\n",
        "print(t1-t2)\n",
        "print(t1*t2)\n",
        "print(t1/t2)"
      ],
      "metadata": {
        "colab": {
          "base_uri": "https://localhost:8080/"
        },
        "id": "QiT-dcwKayoY",
        "outputId": "1180c933-26cc-4eee-c716-5b1fffd707af"
      },
      "execution_count": 4,
      "outputs": [
        {
          "output_type": "stream",
          "name": "stdout",
          "text": [
            "tf.Tensor([11 22 33], shape=(3,), dtype=int32)\n",
            "tf.Tensor([ -9 -18 -27], shape=(3,), dtype=int32)\n",
            "tf.Tensor([10 40 90], shape=(3,), dtype=int32)\n",
            "tf.Tensor([0.1 0.1 0.1], shape=(3,), dtype=float64)\n"
          ]
        }
      ]
    },
    {
      "cell_type": "code",
      "source": [
        "t3 = tf.random.normal(shape=(3,4), stddev=5, mean=0)\n",
        "t4 = tf.random.normal(shape=(3,4), stddev=5, mean=0)"
      ],
      "metadata": {
        "id": "TVrdbOQCayqr"
      },
      "execution_count": 7,
      "outputs": []
    },
    {
      "cell_type": "code",
      "source": [
        "print(t3.numpy(),'\\n')\n",
        "print(t4.numpy(),'\\n')"
      ],
      "metadata": {
        "colab": {
          "base_uri": "https://localhost:8080/"
        },
        "id": "O1RBMnocaysm",
        "outputId": "6b7db720-76f2-4c19-a69d-92abcae52c2a"
      },
      "execution_count": 9,
      "outputs": [
        {
          "output_type": "stream",
          "name": "stdout",
          "text": [
            "[[-3.8009465  -0.10121017 -1.318499    6.856401  ]\n",
            " [ 3.9273157   2.505038   -6.9442997   4.787032  ]\n",
            " [ 4.4839697  -0.7826138   3.0637197  -9.808319  ]] \n",
            "\n",
            "[[-2.2965548   6.8105946  -4.439709   -2.109042  ]\n",
            " [-4.8954287   9.0479145   5.9249773  -5.3478975 ]\n",
            " [-2.003117   -0.49166086 -3.0944834  -3.8483267 ]] \n",
            "\n"
          ]
        }
      ]
    },
    {
      "cell_type": "code",
      "source": [
        "t4 = tf.cast(t4, dtype=tf.int16)\n",
        "t5 = tf.reduce_sum(t4)\n",
        "print(t5.numpy())"
      ],
      "metadata": {
        "colab": {
          "base_uri": "https://localhost:8080/"
        },
        "id": "RkFQlYEDayu6",
        "outputId": "43fa987d-f914-4e98-c884-0f67cd455d64"
      },
      "execution_count": 10,
      "outputs": [
        {
          "output_type": "stream",
          "name": "stdout",
          "text": [
            "-5\n"
          ]
        }
      ]
    },
    {
      "cell_type": "code",
      "source": [
        "t6 = tf.reduce_sum(t4,axis=0)\n",
        "print(t6.numpy())"
      ],
      "metadata": {
        "colab": {
          "base_uri": "https://localhost:8080/"
        },
        "id": "-A1sttsXayxP",
        "outputId": "38c86797-b064-4e90-d3ea-60327542dcb5"
      },
      "execution_count": 12,
      "outputs": [
        {
          "output_type": "stream",
          "name": "stdout",
          "text": [
            "[ -8  15  -2 -10]\n"
          ]
        }
      ]
    },
    {
      "cell_type": "code",
      "source": [
        "t7 = tf.random.normal(shape=(128,128,3),mean=0,stddev=5)\n",
        "t7 = tf.cast(t7, dtype=tf.int16)\n",
        "t8 = tf.reduce_sum(t7, axis=2)\n",
        "print(t7.shape,'\\n')\n",
        "print(t8.shape)"
      ],
      "metadata": {
        "colab": {
          "base_uri": "https://localhost:8080/"
        },
        "id": "2a3Mo69yayzk",
        "outputId": "1376d65b-f993-46b7-82fa-d3a6eb071e34"
      },
      "execution_count": 13,
      "outputs": [
        {
          "output_type": "stream",
          "name": "stdout",
          "text": [
            "(128, 128, 3) \n",
            "\n",
            "(128, 128)\n"
          ]
        }
      ]
    },
    {
      "cell_type": "code",
      "source": [
        "t9 = tf.random.normal(shape=(128,128,3),mean=0,stddev=5)\n",
        "t9 = tf.cast(t9, dtype=tf.int16)\n",
        "t10 = tf.reduce_max(t9, axis=2)\n",
        "print(t9.shape,'\\n')\n",
        "print(t10.shape) "
      ],
      "metadata": {
        "colab": {
          "base_uri": "https://localhost:8080/"
        },
        "id": "RgX88NUKay1y",
        "outputId": "6a1871b0-797e-4479-aaa2-0ff48332f878"
      },
      "execution_count": 14,
      "outputs": [
        {
          "output_type": "stream",
          "name": "stdout",
          "text": [
            "(128, 128, 3) \n",
            "\n",
            "(128, 128)\n"
          ]
        }
      ]
    }
  ]
}